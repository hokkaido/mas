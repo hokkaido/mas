{
 "cells": [
  {
   "cell_type": "code",
   "execution_count": 1,
   "metadata": {},
   "outputs": [
    {
     "ename": "SyntaxError",
     "evalue": "invalid syntax (<ipython-input-1-aa029131cb69>, line 1)",
     "output_type": "error",
     "traceback": [
      "\u001b[0;36m  File \u001b[0;32m\"<ipython-input-1-aa029131cb69>\"\u001b[0;36m, line \u001b[0;32m1\u001b[0m\n\u001b[0;31m    def random_story(p)\u001b[0m\n\u001b[0m                       ^\u001b[0m\n\u001b[0;31mSyntaxError\u001b[0m\u001b[0;31m:\u001b[0m invalid syntax\n"
     ]
    }
   ],
   "source": [
    "import os, random\n",
    "random.choice(os.listdir(\"C:\\\\\"))\n",
    "\n",
    "def random_story(story_dir='../datasets/cnn_stories/cnn/'):\n",
    "    "
   ]
  },
  {
   "cell_type": "code",
   "execution_count": 5,
   "metadata": {},
   "outputs": [
    {
     "name": "stdout",
     "output_type": "stream",
     "text": [
      "['book_keeping', 'numismatics', 'betting', 'banking', 'insurance', 'racing', 'social', 'money', 'finance', 'post', 'law', 'commerce', 'enterprise', 'telegraphy', 'mathematics', 'industry', 'economy', 'tax', 'free_time', 'jewellery', 'statistics', 'exchange', 'buildings', 'diplomacy', 'book_keeping', 'factotum', 'agriculture', 'electrotechnology', 'numismatics', 'person', 'telephony', 'metrology', 'politics', 'betting', 'banking', 'sociology', 'insurance', 'racing', 'publishing', 'social', 'money', 'card', 'finance', 'post', 'law', 'topography', 'tourism', 'commerce', 'philology', 'telegraphy', 'enterprise', 'mathematics', 'time_period', 'town_planning', 'animal_husbandry', 'pure_science', 'computer_science', 'economy', 'industry', 'tax', 'quality', 'free_time', 'philately', 'railway', 'jewellery', 'telecommunication', 'statistics', 'exchange', 'economy', 'music']\n",
      "BERT (be) (be) (be) (exist|be) (exist|be) (exist|be|equal) (make_up|equal|be|exist|represent|comprise|constitute) (make_up|follow|equal|be|exist|represent|comprise|constitute) (make_up|follow|equal|embody|be|personify|exist|represent|comprise|constitute) (make_up|follow|equal|embody|be|personify|exist|represent|comprise|constitute) (make_up|follow|equal|embody|be|live|personify|exist|represent|comprise|constitute) (make_up|follow|equal|embody|be|live|personify|exist|represent|comprise|constitute) (make_up|follow|equal|embody|be|live|personify|cost|exist|represent|comprise|constitute) (I|single|unity|ace|1|one) (I|single|unity|ace|1|one) (I|single|unity|i|ane|ace|1|one) (I|single|unity|i|ane|ace|unitary|1|one) (I|single|unity|i|ane|ace|unitary|1|one) (I|single|unity|i|ane|ace|unitary|1|one) (I|single|unity|i|ane|ace|unitary|1|one) (I|single|unity|i|ane|ace|unitary|1|one) (I|unrivalled|nonpareil|one_and_only|matchless|single|unity|i|ane|peerless|unmatched|unmatchable|unrivaled|ace|unitary|1|one) of the (superlative|sterling|greatest) (superlative|sterling|great|greatest) (superlative|sterling|great|outstanding|greatest) (superlative|sterling|great|outstanding|greatest) (bang-up|great|cracking|nifty|dandy|outstanding|corking|groovy|bully|swell|neat|greatest|superlative|slap-up|sterling|peachy|keen|smashing|not_bad) (bang-up|majuscule|great|cracking|nifty|dandy|outstanding|corking|groovy|bully|swell|neat|greatest|superlative|slap-up|sterling|capital|peachy|keen|smashing|not_bad) (bang-up|majuscule|great|cracking|nifty|dandy|outstanding|corking|groovy|bully|swell|big|expectant|neat|with_child|greatest|superlative|slap-up|large|sterling|capital|peachy|gravid|keen|smashing|not_bad|enceinte|heavy) (achievement|accomplishment) (in|inch) (indium|atomic_number_49|in|In|inch) (indium|atomic_number_49|in|In|inch|Indiana|IN|Hoosier_State) (indium|atomic_number_49|in|In|inch|Indiana|IN|Hoosier_State) (indium|atomic_number_49|in|In|inch|Indiana|IN|Hoosier_State) (indium|atomic_number_49|in|In|inch|Indiana|IN|Hoosier_State) (indium|inwards|atomic_number_49|in|In|inch|Indiana|IN|inward|Hoosier_State) (NLP|natural_language_processing|human_language_technology) (in|inch) (indium|atomic_number_49|in|In|inch) (indium|atomic_number_49|in|In|inch|Indiana|IN|Hoosier_State) (indium|atomic_number_49|in|In|inch|Indiana|IN|Hoosier_State) (indium|atomic_number_49|in|In|inch|Indiana|IN|Hoosier_State) (indium|atomic_number_49|in|In|inch|Indiana|IN|Hoosier_State) (indium|inwards|atomic_number_49|in|In|inch|Indiana|IN|inward|Hoosier_State) the (past) (preceding|past|retiring) (decennary|decade|decennium) (X|ten|decade|decennium|decennary|tenner|10) .\n"
     ]
    }
   ],
   "source": [
    "import spacy\n",
    "\n",
    "from spacy_wordnet.wordnet_annotator import WordnetAnnotator \n",
    "\n",
    "# Load an spacy model (supported models are \"es\" and \"en\") \n",
    "nlp = spacy.load('en')\n",
    "nlp.add_pipe(WordnetAnnotator(nlp.lang), after='tagger')\n",
    "token = nlp('prices')[0]\n",
    "\n",
    "# wordnet object link spacy token with nltk wordnet interface by giving acces to\n",
    "# synsets and lemmas \n",
    "token._.wordnet.synsets()\n",
    "token._.wordnet.lemmas()\n",
    "\n",
    "# And automatically tags with wordnet domains\n",
    "print(token._.wordnet.wordnet_domains())\n",
    "\n",
    "\n",
    "# Imagine we want to enrich the following sentence with synonyms\n",
    "sentence = nlp('BERT is one of the greatest achievements in NLP in the past decade.')\n",
    "\n",
    "# spaCy WordNet lets you find synonyms by domain of interest\n",
    "# for example economy\n",
    "economy_domains = ['finance', 'banking']\n",
    "enriched_sentence = []\n",
    "\n",
    "# For each token in the sentence\n",
    "for token in sentence:\n",
    "    # We get those synsets within the desired domains\n",
    "    synsets = token._.wordnet.synsets()\n",
    "    if synsets:\n",
    "        lemmas_for_synset = []\n",
    "        for s in synsets:\n",
    "            # If we found a synset in the economy domains\n",
    "            # we get the variants and add them to the enriched sentence\n",
    "            lemmas_for_synset.extend(s.lemma_names())\n",
    "            enriched_sentence.append('({})'.format('|'.join(set(lemmas_for_synset))))\n",
    "    else:\n",
    "        enriched_sentence.append(token.text)\n",
    "\n",
    "# Let's see our enriched sentence\n",
    "print(' '.join(enriched_sentence))"
   ]
  },
  {
   "cell_type": "code",
   "execution_count": null,
   "metadata": {},
   "outputs": [],
   "source": []
  }
 ],
 "metadata": {
  "kernelspec": {
   "display_name": "Python [conda env:mas] *",
   "language": "python",
   "name": "conda-env-mas-py"
  },
  "language_info": {
   "codemirror_mode": {
    "name": "ipython",
    "version": 3
   },
   "file_extension": ".py",
   "mimetype": "text/x-python",
   "name": "python",
   "nbconvert_exporter": "python",
   "pygments_lexer": "ipython3",
   "version": "3.7.3"
  }
 },
 "nbformat": 4,
 "nbformat_minor": 2
}
