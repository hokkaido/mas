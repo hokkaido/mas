{
 "cells": [
  {
   "cell_type": "code",
   "execution_count": 1,
   "metadata": {},
   "outputs": [],
   "source": [
    "from pytorch_transformers import BertTokenizer"
   ]
  },
  {
   "cell_type": "code",
   "execution_count": 2,
   "metadata": {},
   "outputs": [],
   "source": [
    "exec(open(\"../deps/MASS/MASS-summarization/mass/bert_dictionary.py\").read())"
   ]
  },
  {
   "cell_type": "code",
   "execution_count": 3,
   "metadata": {},
   "outputs": [],
   "source": [
    "bpe = BertTokenizer.from_pretrained('bert-base-uncased')"
   ]
  },
  {
   "cell_type": "code",
   "execution_count": 112,
   "metadata": {},
   "outputs": [],
   "source": [
    "wp_tokens = bpe.tokenize(\"The violent clashes that broke out between fans of football rivals Brondby and FC Copenhagen last month have now led to criminal charges against 44 men, Ritzau reported on Thursday. [SEP] And something else. [MASK]\")"
   ]
  },
  {
   "cell_type": "code",
   "execution_count": 65,
   "metadata": {},
   "outputs": [
    {
     "data": {
      "text/plain": [
       "['the',\n",
       " 'violent',\n",
       " 'clashes',\n",
       " 'that',\n",
       " 'broke',\n",
       " 'out',\n",
       " 'between',\n",
       " 'fans',\n",
       " 'of',\n",
       " 'football',\n",
       " 'rivals',\n",
       " 'bro',\n",
       " '##nd',\n",
       " '##by',\n",
       " 'and',\n",
       " 'fc',\n",
       " 'copenhagen',\n",
       " 'last',\n",
       " 'month',\n",
       " 'have',\n",
       " 'now',\n",
       " 'led',\n",
       " 'to',\n",
       " 'criminal',\n",
       " 'charges',\n",
       " 'against',\n",
       " '44',\n",
       " 'men',\n",
       " ',',\n",
       " 'ri',\n",
       " '##tz',\n",
       " '##au',\n",
       " 'reported',\n",
       " 'on',\n",
       " 'thursday',\n",
       " '.']"
      ]
     },
     "execution_count": 65,
     "metadata": {},
     "output_type": "execute_result"
    }
   ],
   "source": [
    "wp_tokens"
   ]
  },
  {
   "cell_type": "code",
   "execution_count": 113,
   "metadata": {},
   "outputs": [
    {
     "data": {
      "text/plain": [
       "['the',\n",
       " 'violent',\n",
       " 'clashes',\n",
       " 'that',\n",
       " 'broke',\n",
       " 'out',\n",
       " 'between',\n",
       " 'fans',\n",
       " 'of',\n",
       " 'football',\n",
       " 'rivals',\n",
       " 'brondby',\n",
       " 'and',\n",
       " 'fc',\n",
       " 'copenhagen',\n",
       " 'last',\n",
       " 'month',\n",
       " 'have',\n",
       " 'now',\n",
       " 'led',\n",
       " 'to',\n",
       " 'criminal',\n",
       " 'charges',\n",
       " 'against',\n",
       " '44',\n",
       " 'men',\n",
       " ',',\n",
       " 'ritzau',\n",
       " 'reported',\n",
       " 'on',\n",
       " 'thursday',\n",
       " '.',\n",
       " '[',\n",
       " 'sep',\n",
       " ']',\n",
       " 'and',\n",
       " 'something',\n",
       " 'else',\n",
       " '.',\n",
       " '[',\n",
       " 'mask',\n",
       " ']']"
      ]
     },
     "execution_count": 113,
     "metadata": {},
     "output_type": "execute_result"
    }
   ],
   "source": [
    "import spacy\n",
    "\n",
    "nlp = spacy.load(\"en_core_web_sm\")\n",
    "doc = nlp(\"The violent clashes that broke out between fans of football rivals Brondby and FC Copenhagen last month have now led to criminal charges against 44 men, Ritzau reported on Thursday. [SEP] And something else. [MASK]\")\n",
    "\n",
    "spacy_tokens = [token.text.lower() for token in doc]\n",
    "\n",
    "spacy_tokens"
   ]
  },
  {
   "cell_type": "code",
   "execution_count": 64,
   "metadata": {},
   "outputs": [
    {
     "data": {
      "text/plain": [
       "the violent clashes that broke out between fans of football rivals bro nd by and fc copenhagen last month have now led to criminal charges against 44 men , ri tz au reported on thursday ."
      ]
     },
     "execution_count": 64,
     "metadata": {},
     "output_type": "execute_result"
    }
   ],
   "source": [
    "nlp(' '.join([clean_wp_token(wp) for wp in wp_tokens]))"
   ]
  },
  {
   "cell_type": "code",
   "execution_count": 102,
   "metadata": {},
   "outputs": [],
   "source": [
    "def clean_wp_token(token):\n",
    "    return token.replace(\"##\", \"\", 1).strip()\n",
    "\n",
    "def flatten_list(nested):\n",
    "    \"\"\"Flatten a nested list.\"\"\"\n",
    "    flat = []\n",
    "    for x in nested:\n",
    "        flat.extend(x)\n",
    "    return flat"
   ]
  },
  {
   "cell_type": "code",
   "execution_count": 103,
   "metadata": {},
   "outputs": [],
   "source": [
    "import numpy as np\n",
    "def align_word_pieces(spacy_tokens, wp_tokens, retry=True):\n",
    "    \"\"\"Align tokens against word-piece tokens. The alignment is returned as a\n",
    "    list of lists. If alignment[3] == [4, 5, 6], that means that spacy_tokens[3]\n",
    "    aligns against 3 tokens: wp_tokens[4], wp_tokens[5] and wp_tokens[6].\n",
    "    All spaCy tokens must align against at least one element of wp_tokens.\n",
    "    \"\"\"\n",
    "    spacy_tokens = list(spacy_tokens)\n",
    "    wp_tokens = list(wp_tokens)\n",
    "    if not wp_tokens:\n",
    "        return [[] for _ in spacy_tokens]\n",
    "    elif not spacy_tokens:\n",
    "        return []\n",
    "    # Check alignment\n",
    "    spacy_string = \"\".join(spacy_tokens).lower()\n",
    "    wp_string = \"\".join(wp_tokens).lower()\n",
    "    if not spacy_string and not wp_string:\n",
    "        return None\n",
    "    if spacy_string != wp_string:\n",
    "        if retry:\n",
    "            # Flag to control whether to apply a fallback strategy when we\n",
    "            # don't align, of making more aggressive replacements. It's not\n",
    "            # clear whether this will lead to better or worse results than the\n",
    "            # ultimate fallback strategy, of calling the sub-tokenizer on the\n",
    "            # spaCy tokens. Probably trying harder to get alignment is good:\n",
    "            # the ultimate fallback actually *changes what wordpieces we\n",
    "            # return*, so we get (potentially) different results out of the\n",
    "            # transformer. The more aggressive alignment can only change how we\n",
    "            # map those transformer features to tokens.\n",
    "            spacy_tokens = [alpha_re.sub(\"\", t) for t in spacy_tokens]\n",
    "            wp_tokens = [alpha_re.sub(\"\", t) for t in wp_tokens]\n",
    "            spacy_string = \"\".join(spacy_tokens).lower()\n",
    "            wp_string = \"\".join(wp_tokens).lower()\n",
    "            if spacy_string == wp_string:\n",
    "                return _align(spacy_tokens, wp_tokens)\n",
    "        # If either we're not trying the fallback alignment, or the fallback\n",
    "        # fails, we return None. This tells the wordpiecer to align by\n",
    "        # calling the sub-tokenizer on the spaCy tokens.\n",
    "        return None\n",
    "    output = _align(spacy_tokens, wp_tokens)\n",
    "    if len(set(flatten_list(output))) != len(wp_tokens):\n",
    "        return None\n",
    "    return output\n",
    "\n",
    "\n",
    "def _align(seq1, seq2):\n",
    "    # Map character positions to tokens\n",
    "    map1 = _get_char_map(seq1)\n",
    "    map2 = _get_char_map(seq2)\n",
    "    # For each token in seq1, get the set of tokens in seq2\n",
    "    # that share at least one character with that token.\n",
    "    alignment = [set() for _ in seq1]\n",
    "    unaligned = set(range(len(seq2)))\n",
    "    for char_position in range(map1.shape[0]):\n",
    "        i = map1[char_position]\n",
    "        j = map2[char_position]\n",
    "        alignment[i].add(j)\n",
    "        if j in unaligned:\n",
    "            unaligned.remove(j)\n",
    "    # Sort, make list\n",
    "    output = [sorted(list(s)) for s in alignment]\n",
    "    # Expand alignment to adjacent unaligned tokens of seq2\n",
    "    for indices in output:\n",
    "        if indices:\n",
    "            while indices[0] >= 1 and indices[0] - 1 in unaligned:\n",
    "                indices.insert(0, indices[0] - 1)\n",
    "            last = len(seq2) - 1\n",
    "            while indices[-1] < last and indices[-1] + 1 in unaligned:\n",
    "                indices.append(indices[-1] + 1)\n",
    "    return output\n",
    "\n",
    "def _get_char_map(seq):\n",
    "    char_map = np.zeros((sum(len(token) for token in seq),), dtype=\"i\")\n",
    "    offset = 0\n",
    "    for i, token in enumerate(seq):\n",
    "        for j in range(len(token)):\n",
    "            char_map[offset + j] = i\n",
    "        offset += len(token)\n",
    "    return char_map\n"
   ]
  },
  {
   "cell_type": "code",
   "execution_count": 117,
   "metadata": {},
   "outputs": [],
   "source": [
    "    def align_tokens(doc, wp_tokens, *, offset=0):\n",
    "        spacy_tokens = [w.text.rstrip().lower() for w in doc]\n",
    "        new_wp_tokens = [clean_wp_token(t) for t in wp_tokens]\n",
    "        assert len(wp_tokens) == len(new_wp_tokens)\n",
    "        align = align_word_pieces(spacy_tokens, new_wp_tokens, retry=False)\n",
    "        for indices in align:\n",
    "            for i in range(len(indices)):\n",
    "                indices[i] += offset\n",
    "        return wp_tokens, align"
   ]
  },
  {
   "cell_type": "code",
   "execution_count": 128,
   "metadata": {},
   "outputs": [],
   "source": [
    "_, alignments = align_tokens(doc, wp_tokens)"
   ]
  },
  {
   "cell_type": "code",
   "execution_count": 120,
   "metadata": {},
   "outputs": [
    {
     "ename": "ValueError",
     "evalue": "too many values to unpack (expected 2)",
     "output_type": "error",
     "traceback": [
      "\u001b[0;31m---------------------------------------------------------------------------\u001b[0m",
      "\u001b[0;31mValueError\u001b[0m                                Traceback (most recent call last)",
      "\u001b[0;32m<ipython-input-120-60a1b55f716c>\u001b[0m in \u001b[0;36m<module>\u001b[0;34m\u001b[0m\n\u001b[0;32m----> 1\u001b[0;31m \u001b[0;32mfor\u001b[0m \u001b[0malignment\u001b[0m\u001b[0;34m,\u001b[0m \u001b[0mi\u001b[0m \u001b[0;32min\u001b[0m \u001b[0malignments\u001b[0m\u001b[0;34m:\u001b[0m\u001b[0;34m\u001b[0m\u001b[0;34m\u001b[0m\u001b[0m\n\u001b[0m\u001b[1;32m      2\u001b[0m     \u001b[0mprint\u001b[0m\u001b[0;34m(\u001b[0m\u001b[0malignment\u001b[0m\u001b[0;34m)\u001b[0m\u001b[0;34m\u001b[0m\u001b[0;34m\u001b[0m\u001b[0m\n",
      "\u001b[0;31mValueError\u001b[0m: too many values to unpack (expected 2)"
     ]
    }
   ],
   "source": [
    "for alignment, i in len(alignments:\n",
    "    print(alignment)"
   ]
  },
  {
   "cell_type": "code",
   "execution_count": 126,
   "metadata": {},
   "outputs": [
    {
     "data": {
      "text/plain": [
       "0"
      ]
     },
     "execution_count": 126,
     "metadata": {},
     "output_type": "execute_result"
    }
   ],
   "source": [
    "doc[1].ent_type"
   ]
  },
  {
   "cell_type": "code",
   "execution_count": 129,
   "metadata": {},
   "outputs": [
    {
     "data": {
      "text/plain": [
       "[[0],\n",
       " [1],\n",
       " [2],\n",
       " [3],\n",
       " [4],\n",
       " [5],\n",
       " [6],\n",
       " [7],\n",
       " [8],\n",
       " [9],\n",
       " [10],\n",
       " [11, 12, 13],\n",
       " [14],\n",
       " [15],\n",
       " [16],\n",
       " [17],\n",
       " [18],\n",
       " [19],\n",
       " [20],\n",
       " [21],\n",
       " [22],\n",
       " [23],\n",
       " [24],\n",
       " [25],\n",
       " [26],\n",
       " [27],\n",
       " [28],\n",
       " [29, 30, 31],\n",
       " [32],\n",
       " [33],\n",
       " [34],\n",
       " [35],\n",
       " [36],\n",
       " [36],\n",
       " [36],\n",
       " [37],\n",
       " [38],\n",
       " [39],\n",
       " [40],\n",
       " [41],\n",
       " [41],\n",
       " [41]]"
      ]
     },
     "execution_count": 129,
     "metadata": {},
     "output_type": "execute_result"
    }
   ],
   "source": [
    "alignments"
   ]
  },
  {
   "cell_type": "code",
   "execution_count": null,
   "metadata": {},
   "outputs": [],
   "source": []
  },
  {
   "cell_type": "code",
   "execution_count": 68,
   "metadata": {},
   "outputs": [],
   "source": [
    "d = BertDictionary.load_from_file('../datasets/cnndm/dict.src.txt')"
   ]
  },
  {
   "cell_type": "code",
   "execution_count": 74,
   "metadata": {},
   "outputs": [
    {
     "data": {
      "text/plain": [
       "'the violent clashes that broke out between fans of football rivals brondby and fc copenhagen last month have now led to criminal charges against 44 men , ritzau reported on thursday .'"
      ]
     },
     "execution_count": 74,
     "metadata": {},
     "output_type": "execute_result"
    }
   ],
   "source": [
    "idx = [d.index(token) for token in wp_tokens]\n",
    "d.string(idx, ' ##')"
   ]
  },
  {
   "cell_type": "code",
   "execution_count": null,
   "metadata": {},
   "outputs": [],
   "source": []
  },
  {
   "cell_type": "code",
   "execution_count": null,
   "metadata": {},
   "outputs": [],
   "source": []
  },
  {
   "cell_type": "code",
   "execution_count": null,
   "metadata": {},
   "outputs": [],
   "source": []
  },
  {
   "cell_type": "code",
   "execution_count": 22,
   "metadata": {},
   "outputs": [],
   "source": []
  },
  {
   "cell_type": "code",
   "execution_count": null,
   "metadata": {},
   "outputs": [],
   "source": []
  },
  {
   "cell_type": "code",
   "execution_count": null,
   "metadata": {},
   "outputs": [],
   "source": []
  },
  {
   "cell_type": "code",
   "execution_count": null,
   "metadata": {},
   "outputs": [],
   "source": []
  },
  {
   "cell_type": "code",
   "execution_count": null,
   "metadata": {},
   "outputs": [],
   "source": []
  },
  {
   "cell_type": "code",
   "execution_count": null,
   "metadata": {},
   "outputs": [],
   "source": []
  },
  {
   "cell_type": "code",
   "execution_count": null,
   "metadata": {},
   "outputs": [],
   "source": []
  },
  {
   "cell_type": "code",
   "execution_count": null,
   "metadata": {},
   "outputs": [],
   "source": []
  },
  {
   "cell_type": "code",
   "execution_count": null,
   "metadata": {},
   "outputs": [],
   "source": []
  },
  {
   "cell_type": "code",
   "execution_count": 111,
   "metadata": {},
   "outputs": [
    {
     "name": "stdout",
     "output_type": "stream",
     "text": [
      "the 2 \n",
      "violent 2 \n",
      "clashes 2 \n",
      "that 2 \n",
      "broke 2 \n",
      "out 2 \n",
      "between 2 \n",
      "fans 2 \n",
      "of 2 \n",
      "football 2 \n",
      "rivals 2 \n",
      "brondby 2 \n",
      "and 2 \n",
      "fc 2 \n",
      "copenhagen 2 \n",
      "last 3 DATE\n",
      "month 1 DATE\n",
      "have 2 \n",
      "now 2 \n",
      "led 2 \n",
      "to 2 \n",
      "criminal 2 \n",
      "charges 2 \n",
      "against 2 \n",
      "44 3 CARDINAL\n",
      "men 2 \n",
      ", 2 \n",
      "ritzau 2 \n",
      "reported 2 \n",
      "on 2 \n",
      "thursday 3 DATE\n",
      ". 2 \n",
      "google 2 \n",
      "was 2 \n",
      "not 2 \n",
      "amused 2 \n",
      "at 2 \n",
      "all 2 \n",
      "and 2 \n",
      "wanted 2 \n",
      "to 2 \n",
      "sue 2 \n",
      "the 2 \n",
      "united 2 \n",
      "states 2 \n",
      "of 2 \n",
      "america 2 \n",
      ". 2 \n",
      "[ 2 \n",
      "SEP 3 ORG\n",
      "] 2 \n"
     ]
    }
   ],
   "source": [
    "import spacy\n",
    "\n",
    "nlp = spacy.load(\"en_core_web_sm\")\n",
    "doc = nlp(\"the violent clashes that broke out between fans of football rivals brondby and fc copenhagen last month have now led to criminal charges against 44 men , ritzau reported on thursday . google was not amused at all and wanted to sue the united states of america. [SEP]\")\n",
    "\n",
    "for token in doc:\n",
    "    print(token.text, token.ent_iob, token.ent_type_)"
   ]
  },
  {
   "cell_type": "code",
   "execution_count": 60,
   "metadata": {},
   "outputs": [],
   "source": [
    "ENTITY_TYPES = {\n",
    "    'PERSON': 1,\n",
    "}\n"
   ]
  },
  {
   "cell_type": "code",
   "execution_count": 61,
   "metadata": {},
   "outputs": [
    {
     "data": {
      "text/plain": [
       "1"
      ]
     },
     "execution_count": 61,
     "metadata": {},
     "output_type": "execute_result"
    }
   ],
   "source": [
    "ENTITY_TYPES['PERSON']"
   ]
  },
  {
   "cell_type": "code",
   "execution_count": 88,
   "metadata": {},
   "outputs": [],
   "source": [
    "probs = {w.prob: w.orth for w in nlp.vocab}\n",
    "usually_titled = [w for w in nlp.vocab if w.is_title and probs.get(w.lower, -10000) < probs.get(w.orth, -10000)]"
   ]
  },
  {
   "cell_type": "code",
   "execution_count": 85,
   "metadata": {},
   "outputs": [
    {
     "data": {
      "text/plain": [
       "[]"
      ]
     },
     "execution_count": 85,
     "metadata": {},
     "output_type": "execute_result"
    }
   ],
   "source": [
    "usually_titled"
   ]
  },
  {
   "cell_type": "code",
   "execution_count": 89,
   "metadata": {},
   "outputs": [
    {
     "name": "stdout",
     "output_type": "stream",
     "text": [
      "17780520906925867008\n",
      "2112642640949226496\n",
      "9616619598791593984\n",
      "8872574631799229440\n",
      "881660621787532292\n",
      "16946338003326290949\n",
      "9753589711503188996\n",
      "16863710723590747144\n",
      "520659760401972234\n",
      "4956802221589171210\n",
      "16935887339986883598\n",
      "9928036205409584144\n",
      "8532415787641010193\n",
      "13253649979635857425\n",
      "16455024788568498194\n",
      "957646191493309460\n",
      "12493136043797776404\n",
      "68268922348150806\n",
      "13215729906341848089\n",
      "10065896487860850714\n",
      "12579384389446384672\n",
      "10239237003504588839\n",
      "9135761513799055405\n",
      "93523526525271091\n",
      "14224400212521872438\n",
      "1635925671746308151\n",
      "6580322711908478009\n",
      "16030846251984615483\n",
      "17253057192755562556\n",
      "15944149891796232253\n",
      "16011641530158155841\n",
      "3411606890003347522\n",
      "3439263888874234947\n",
      "4499179194882955333\n",
      "11015993923340501061\n",
      "14348061120257369157\n",
      "9747367433533540424\n",
      "14803285143452237901\n",
      "9720490137265826897\n",
      "7859011591137717335\n",
      "11030505694439315546\n",
      "16318918034475841628\n",
      "8448345182024841309\n",
      "8818141632269523039\n",
      "14182082159500669027\n",
      "7040491189314629732\n",
      "1147041772600080486\n",
      "11667289587015813222\n",
      "2934195947809526888\n",
      "16772779529778727018\n",
      "7290638946010101875\n",
      "5753699465031219316\n",
      "13804673902807459957\n",
      "15498026310851286133\n",
      "13419278016407268471\n",
      "1206486464293286007\n",
      "10464708895293764731\n",
      "7530887457086372988\n",
      "8884242500009200765\n",
      "3843561305243529344\n",
      "16623299875770883202\n",
      "5853028926839512195\n",
      "13936508425913431172\n",
      "2302773495990314116\n",
      "12960022596163002503\n",
      "209163345992584329\n",
      "9989582357904334986\n",
      "2191008418369679499\n",
      "11943711003974232205\n",
      "277454710935688340\n",
      "1818273248662495384\n",
      "8066274082611675288\n",
      "2973877625341702298\n",
      "14219137604470672539\n",
      "314808056659301533\n",
      "181367025473623201\n",
      "930525124138600610\n",
      "3341772144230116515\n",
      "7021556664461745316\n",
      "10299253490465169573\n",
      "2158845516055552166\n",
      "10213161675013473443\n",
      "10598443354991160491\n",
      "3822854919206836395\n",
      "614914527630368944\n",
      "3670662380854481072\n",
      "10895914932092718257\n",
      "12589405851781571765\n",
      "3587261033131107511\n",
      "15153351028700251320\n",
      "5652422685800852665\n",
      "15577302986084589757\n",
      "5121906190925376702\n",
      "9326893827252839616\n",
      "9067754100579305666\n",
      "18175737209259813061\n",
      "15807309897752499399\n",
      "920492170430266568\n",
      "5986095014479629517\n",
      "2645404666858745038\n",
      "13885393660894090447\n",
      "16882685118808958160\n",
      "4336464783471208657\n",
      "12346995674149584082\n",
      "6740321247510922449\n",
      "3443622981070210256\n",
      "8426627298686402768\n",
      "6693421904868797654\n",
      "13124584293511252182\n",
      "2011553555086591192\n",
      "10701989183306053849\n",
      "4399364115554277590\n",
      "18417777138108469467\n",
      "12031567183287540956\n",
      "14920206370424861916\n",
      "17723707863441888478\n",
      "10427407202694495454\n",
      "5332184205468957921\n",
      "845448704624237795\n",
      "13872416150973401318\n",
      "4044584945238092007\n",
      "14378475389916013800\n",
      "18064947329544244457\n",
      "7842861403487224042\n",
      "13409319323822384369\n",
      "11392530053944035573\n",
      "6719628633231359222\n",
      "2688874411134842102\n",
      "7161250246887249143\n",
      "3554169177543738620\n",
      "5865838185239622912\n",
      "15678526665082031364\n",
      "5588528048625607941\n",
      "367645567677572359\n",
      "2462676316711722248\n",
      "8332542706549259529\n",
      "1828878356489582859\n",
      "14856451825348452620\n",
      "15556805105345623310\n",
      "7309673935030830351\n",
      "8245259351392290065\n",
      "16428057658620181782\n",
      "17561021539094349078\n",
      "14143520107006108953\n",
      "8425117618218766619\n",
      "14017917786523565339\n",
      "8640584848669668636\n",
      "9812186981962416417\n",
      "8145230297789275427\n",
      "7508752285157982505\n",
      "14355668937363752239\n",
      "14185160130936644912\n",
      "16458123480638531887\n",
      "717347990843220276\n",
      "5931147113347055926\n",
      "3467512255864611126\n",
      "1927206479145645367\n",
      "9283054155332335931\n",
      "5804788341479180607\n",
      "1819085394523955522\n",
      "9974431412806265156\n",
      "8459553479307508040\n",
      "332747657397809484\n",
      "6821729103676006732\n",
      "10109588199364727116\n",
      "16646695959287600465\n",
      "677312232240094545\n",
      "4627608203446784340\n",
      "14832259926261516629\n",
      "6090035477591592277\n",
      "7336575311110690134\n",
      "4678963469726251353\n",
      "6572986864102252890\n",
      "7852964875075552603\n",
      "1124146173557384544\n",
      "7002785849181619552\n",
      "5533571732986600803\n",
      "16595525790987100515\n",
      "1403652381584228714\n",
      "2216152597797699947\n",
      "5966824576873498989\n",
      "17049187268733402482\n",
      "7616756452299869555\n",
      "5438186459183321460\n",
      "17273378971307708790\n",
      "6765689197777420663\n",
      "4109711359450687866\n",
      "12457141529776702843\n",
      "5913782105554868606\n",
      "1746554987422574974\n",
      "4269929027437856128\n",
      "10204570889604375943\n",
      "16162562616391093643\n",
      "9666419730247967116\n",
      "2521699972661915022\n",
      "16085461649920359823\n",
      "11640383082566074767\n",
      "3791531372978436496\n",
      "16084663469996431762\n",
      "5875245997964661139\n",
      "16990472195520555412\n",
      "9753857113485797782\n",
      "8163388849378669976\n",
      "11802218646484289945\n",
      "2794387671973812638\n",
      "1619792627657125279\n",
      "7404093515545307554\n",
      "10392635994145763753\n",
      "17223181146051093932\n",
      "9529779342693004721\n",
      "1696981056005371314\n",
      "2360781233418247603\n",
      "447765159362469301\n",
      "3144809143026779574\n",
      "4759254855483594167\n",
      "12858801387352784312\n",
      "13583488448875926965\n",
      "15710188965061262778\n",
      "5382148404587546042\n",
      "16084510613106967998\n",
      "2988402087957123519\n",
      "4690420944186131903\n",
      "4629593421707100609\n",
      "10040710659762525634\n",
      "886050111519832510\n",
      "16712971838599463365\n",
      "2074943808208164294\n",
      "1941715343824527815\n",
      "8395131317770283464\n",
      "16087138954804925897\n",
      "17742102488503607756\n",
      "3336034003796547025\n",
      "11282459806373970386\n",
      "3897883951587952083\n",
      "10951603910464382420\n",
      "2959412937177767380\n",
      "10605769393809867225\n",
      "3713597898452030940\n",
      "18341907993179683292\n",
      "6992604926141104606\n",
      "1463569930846642656\n",
      "14231477700472625633\n",
      "8433702349247902182\n",
      "1248239241591158246\n",
      "15499589814997884392\n",
      "11210659663718846955\n",
      "5141900513736482287\n",
      "9781799842591430130\n",
      "11772849645860981237\n",
      "14072893992382507510\n",
      "11925070631239237109\n",
      "13662195795828891128\n",
      "3324429215369977337\n",
      "6070121925186144762\n",
      "16640565335581469180\n",
      "12037055121910305283\n",
      "17490740406847860227\n",
      "288972834514342406\n",
      "4094154666072818182\n",
      "6931789845183928842\n",
      "10887130918241340941\n",
      "9327463958351395342\n",
      "6176012668621382159\n",
      "9434715373157034512\n",
      "8148669997605808657\n",
      "18276010439847524882\n",
      "14692702688101715474\n",
      "4965177937666302486\n",
      "3530637324236019223\n",
      "12396573429372255768\n",
      "7392202625348802074\n",
      "5252949303365547547\n",
      "18344541923336900123\n",
      "12003046246989863453\n",
      "5110457705387890205\n",
      "5736297412878459421\n",
      "17410226353479989793\n",
      "2517660751537192481\n",
      "7788702932451276323\n",
      "7719997495042790948\n",
      "10683205816929815079\n",
      "13264402104698908199\n",
      "15644630300596571694\n",
      "14157549427748903471\n",
      "1386788550200010287\n",
      "478886015463313967\n",
      "12813807776744583736\n",
      "12542444123586209340\n",
      "16978132545290669629\n",
      "16033823940537418302\n",
      "3239224141737613885\n",
      "646772771845179972\n",
      "2309615733100196421\n",
      "4543489984355655238\n",
      "3653411117410524742\n",
      "16420396577191752268\n",
      "1809437480706207310\n",
      "10732699143130055251\n",
      "15123531185556392532\n",
      "5816706412157836887\n",
      "523464648099722843\n",
      "7624161793554793053\n",
      "959164148857638496\n",
      "9921686513378912864\n",
      "10311825281023271522\n",
      "5250421129033639524\n",
      "17089191544103462502\n",
      "11532841145125063271\n",
      "9409450202036847209\n",
      "4350425132070103659\n",
      "2554333856355376747\n",
      "8482962807462430321\n",
      "9643077647543905905\n",
      "1250082070672125555\n",
      "15375715894311515764\n",
      "10118789182639813239\n",
      "11248370538549847671\n",
      "11367013928689839740\n",
      "6539347107179132\n",
      "7055932590921605758\n",
      "9353232606613764737\n",
      "17788705251541427843\n",
      "10489190856827624070\n",
      "590404228066326160\n",
      "3119899473764614802\n",
      "7425985699627899538\n",
      "6635067063807956629\n",
      "3756927935270863510\n",
      "5117079446564601502\n",
      "9139633967594430113\n",
      "16064069575701507746\n",
      "12646065887601541794\n",
      "9800046494762903204\n",
      "13457287749281205924\n",
      "15823013025336717990\n",
      "16318331901196153511\n",
      "1218681339963421352\n",
      "4340849725884804773\n",
      "4478690315169353386\n",
      "3876862883474502309\n",
      "13321740035699397292\n",
      "15275761157247972012\n",
      "17702042282305644205\n",
      "12659954423242834607\n",
      "16194695314150848179\n",
      "2989924464908128948\n",
      "13570013122929820340\n",
      "16315412628806490806\n",
      "1059743325207895736\n",
      "10106543577366998712\n",
      "3605832518131473080\n",
      "16331095434822636218\n",
      "17157488710739566268\n",
      "2593208677638477497\n",
      "5640369432778651323\n",
      "602994839685422785\n",
      "7494117911267222209\n",
      "3593440402997108423\n",
      "8816254647360807624\n",
      "4819537671249353417\n",
      "3688660068092545737\n",
      "16192169739573498574\n",
      "14018295222045480654\n",
      "8504683628951808721\n",
      "4221024470645346003\n",
      "2801508881197379286\n",
      "17798231790394214103\n",
      "16669050202168439512\n",
      "11335490500103852761\n",
      "4380130941430378203\n",
      "16546031009817211612\n",
      "10321518907502812892\n",
      "12297667077588264670\n",
      "13913074996085095135\n",
      "15652954451269806816\n",
      "14053760562844631776\n",
      "16933990426988047072\n",
      "8369835018492280547\n",
      "16469220346386340579\n",
      "17777207901996589797\n",
      "11181246799942687462\n",
      "14194720764169389799\n",
      "3304949189488015084\n",
      "10999827425508017904\n",
      "14614163798502900464\n",
      "14190570455579794162\n",
      "8648147491528080114\n",
      "9778784293914844912\n",
      "1331154485503192822\n",
      "8684611892759944952\n",
      "9723973259887117049\n",
      "8923584966286674682\n",
      "13166726134742360827\n",
      "4279363802872723197\n",
      "17224762799957508865\n",
      "1685563300169538310\n",
      "11122938184292671241\n",
      "1692983299745037067\n",
      "7582625922338312971\n",
      "13382250293161132813\n",
      "5971168095749524238\n",
      "2043519015752540944\n",
      "15064077269648877331\n",
      "12200603188574734102\n",
      "11195369525898364697\n",
      "15549682780653565723\n",
      "15286517567172306717\n",
      "9570894245975188254\n",
      "5097672513440128799\n",
      "7395140194007513893\n",
      "2836518326152854309\n",
      "17551791222988853029\n",
      "5275824539914306346\n",
      "17092777669037358890\n",
      "11901859001352538922\n",
      "4397003526733894445\n",
      "5069666248919817003\n",
      "13762807000992659242\n",
      "4520873089676464943\n",
      "4992863996417576747\n",
      "1634435218575327026\n",
      "7838183783741057843\n",
      "2325429489705854772\n",
      "6559592826723115829\n",
      "8324069036437558070\n",
      "10186358570354481973\n",
      "12314367036709381946\n",
      "10892845355149247291\n",
      "10392126440436578108\n",
      "6630824041198380867\n",
      "2090661578966068036\n",
      "14523573532313749315\n",
      "11242046901407865673\n",
      "5920004935509210957\n",
      "11139565756611064654\n",
      "1063886657534424915\n",
      "6496901170313443157\n",
      "6890382889763219288\n",
      "787462285506360153\n",
      "74068726064231259\n",
      "5870748788333738846\n",
      "17862419861899768672\n",
      "1275433875895538531\n",
      "10106583792479745892\n",
      "15288401070609740648\n",
      "14243937307716721514\n",
      "18421042175347826539\n",
      "9168369171830274927\n",
      "10486112659731323760\n",
      "15319362067645763440\n",
      "5386732672478653298\n",
      "16762307017182994292\n",
      "16743743820210141046\n",
      "9101627512901550971\n",
      "4750851683445525371\n",
      "14947529218328092544\n",
      "1451189400265968520\n",
      "12921814047719899021\n",
      "15180167692696242062\n",
      "14619706284222606223\n",
      "4489555979637837711\n",
      "6865576549405853585\n",
      "7273142119339153293\n",
      "13442081501919966099\n",
      "10093184112288198548\n",
      "12313364506287313813\n",
      "4627090644982542228\n",
      "5681387801617098647\n",
      "16875582379069451158\n",
      "15105092089351274399\n",
      "5235268354995658656\n",
      "16069805748987239333\n",
      "7091322161148323749\n",
      "15667417291854480293\n",
      "16452436086392394664\n",
      "13072471869844634535\n",
      "1099500144017289130\n",
      "15745985092136828842\n",
      "13995895934574749612\n",
      "1988622737398120358\n",
      "12446158341549206448\n",
      "15143458225333249970\n",
      "13088071556345687988\n",
      "11372383307092851638\n",
      "1655312771067108281\n",
      "10292920167869855674\n",
      "17302867969942932412\n",
      "1566965169198151614\n",
      "2207382149317658558\n",
      "5012629990875267006\n",
      "16270323615458754498\n",
      "1120166883048024003\n",
      "4309151941568577475\n",
      "16234874527417875403\n",
      "6931359185236092881\n",
      "13507939967412308948\n",
      "2283656566040971221\n",
      "2705195560392138714\n",
      "9454297283558631386\n",
      "11221368173670222813\n",
      "5852333111480019934\n",
      "9420187474465550305\n",
      "4397341753960594403\n",
      "13657828488461764581\n",
      "8372349306997997542\n",
      "962983613142996970\n",
      "278066919066513387\n",
      "10001421481803202541\n",
      "15573548733511496691\n",
      "10105644630884274164\n",
      "7804796447333213173\n",
      "280013313535684598\n",
      "4115108073383360500\n",
      "13087474692530913272\n",
      "16764841549373090809\n",
      "2391251905787419646\n"
     ]
    }
   ],
   "source": [
    "for w in nlp.vocab:\n",
    "    print(w.orth)"
   ]
  },
  {
   "cell_type": "code",
   "execution_count": 1,
   "metadata": {},
   "outputs": [],
   "source": [
    "import torch"
   ]
  },
  {
   "cell_type": "code",
   "execution_count": 2,
   "metadata": {},
   "outputs": [],
   "source": [
    "a = torch.randn(5, 10, dtype=torch.double)"
   ]
  },
  {
   "cell_type": "code",
   "execution_count": 3,
   "metadata": {},
   "outputs": [
    {
     "data": {
      "text/plain": [
       "tensor([[ 2.1162, -0.6741,  1.1532,  0.2633, -1.0991,  1.3231,  0.8337,  0.4193,\n",
       "         -0.7102, -1.6132],\n",
       "        [ 0.6882, -0.8861,  0.7463,  0.5322, -0.9053,  2.6173, -2.0726, -0.0166,\n",
       "         -1.6143,  1.1444],\n",
       "        [ 0.2064, -0.4998, -0.5279,  0.6413,  0.9586, -0.2006, -0.3313, -0.8618,\n",
       "         -0.0975, -0.2609],\n",
       "        [ 0.0966,  1.1799,  0.1677, -0.4408,  1.0367,  0.5645, -0.3921, -0.2090,\n",
       "          0.3517,  0.3711],\n",
       "        [-0.5567, -1.2093,  0.5622,  0.8603,  3.3869, -1.5603,  0.1894,  0.4290,\n",
       "          0.3514,  0.6443]], dtype=torch.float64)"
      ]
     },
     "execution_count": 3,
     "metadata": {},
     "output_type": "execute_result"
    }
   ],
   "source": [
    "a"
   ]
  },
  {
   "cell_type": "code",
   "execution_count": 4,
   "metadata": {},
   "outputs": [
    {
     "data": {
      "text/plain": [
       "tensor([[-1.6132],\n",
       "        [ 1.1444],\n",
       "        [-0.2609],\n",
       "        [ 0.3711],\n",
       "        [ 0.6443]], dtype=torch.float64)"
      ]
     },
     "execution_count": 4,
     "metadata": {},
     "output_type": "execute_result"
    }
   ],
   "source": [
    "a[:, -1:]"
   ]
  },
  {
   "cell_type": "code",
   "execution_count": 8,
   "metadata": {},
   "outputs": [
    {
     "data": {
      "text/plain": [
       "tensor([[-1.6132],\n",
       "        [ 1.1444],\n",
       "        [-0.2609],\n",
       "        [ 0.3711],\n",
       "        [ 0.6443]], dtype=torch.float64)"
      ]
     },
     "execution_count": 8,
     "metadata": {},
     "output_type": "execute_result"
    }
   ],
   "source": [
    "a[:, -1:]"
   ]
  },
  {
   "cell_type": "code",
   "execution_count": 19,
   "metadata": {},
   "outputs": [
    {
     "name": "stdout",
     "output_type": "stream",
     "text": [
      "tensor([ 2.1162, -0.6741,  1.1532,  0.2633, -1.0991,  1.3231,  0.8337,  0.4193,\n",
      "        -0.7102, -1.6132], dtype=torch.float64)\n",
      "tensor([ 0.6882, -0.8861,  0.7463,  0.5322, -0.9053,  2.6173, -2.0726, -0.0166,\n",
      "        -1.6143,  1.1444], dtype=torch.float64)\n",
      "tensor([ 0.2064, -0.4998, -0.5279,  0.6413,  0.9586, -0.2006, -0.3313, -0.8618,\n",
      "        -0.0975, -0.2609], dtype=torch.float64)\n",
      "tensor([ 0.0966,  1.1799,  0.1677, -0.4408,  1.0367,  0.5645, -0.3921, -0.2090,\n",
      "         0.3517,  0.3711], dtype=torch.float64)\n",
      "tensor([-0.5567, -1.2093,  0.5622,  0.8603,  3.3869, -1.5603,  0.1894,  0.4290,\n",
      "         0.3514,  0.6443], dtype=torch.float64)\n"
     ]
    }
   ],
   "source": [
    "for i in range(len(a)):\n",
    "    print(a[i])"
   ]
  },
  {
   "cell_type": "code",
   "execution_count": 22,
   "metadata": {},
   "outputs": [],
   "source": [
    "a[:,1] = 0"
   ]
  },
  {
   "cell_type": "code",
   "execution_count": 23,
   "metadata": {},
   "outputs": [
    {
     "data": {
      "text/plain": [
       "tensor([[ 2.1162,  0.0000,  1.1532,  0.2633, -1.0991,  1.3231,  0.8337,  0.4193,\n",
       "         -0.7102, -1.6132],\n",
       "        [ 0.6882,  0.0000,  0.7463,  0.5322, -0.9053,  2.6173, -2.0726, -0.0166,\n",
       "         -1.6143,  1.1444],\n",
       "        [ 0.2064,  0.0000, -0.5279,  0.6413,  0.9586, -0.2006, -0.3313, -0.8618,\n",
       "         -0.0975, -0.2609],\n",
       "        [ 0.0966,  0.0000,  0.1677, -0.4408,  1.0367,  0.5645, -0.3921, -0.2090,\n",
       "          0.3517,  0.3711],\n",
       "        [-0.5567,  0.0000,  0.5622,  0.8603,  3.3869, -1.5603,  0.1894,  0.4290,\n",
       "          0.3514,  0.6443]], dtype=torch.float64)"
      ]
     },
     "execution_count": 23,
     "metadata": {},
     "output_type": "execute_result"
    }
   ],
   "source": [
    "a"
   ]
  },
  {
   "cell_type": "code",
   "execution_count": 25,
   "metadata": {},
   "outputs": [
    {
     "data": {
      "text/plain": [
       "10"
      ]
     },
     "execution_count": 25,
     "metadata": {},
     "output_type": "execute_result"
    }
   ],
   "source": [
    "a.shape[1]"
   ]
  },
  {
   "cell_type": "code",
   "execution_count": null,
   "metadata": {},
   "outputs": [],
   "source": []
  }
 ],
 "metadata": {
  "kernelspec": {
   "display_name": "Python [conda env:mas] *",
   "language": "python",
   "name": "conda-env-mas-py"
  },
  "language_info": {
   "codemirror_mode": {
    "name": "ipython",
    "version": 3
   },
   "file_extension": ".py",
   "mimetype": "text/x-python",
   "name": "python",
   "nbconvert_exporter": "python",
   "pygments_lexer": "ipython3",
   "version": "3.7.3"
  }
 },
 "nbformat": 4,
 "nbformat_minor": 2
}
