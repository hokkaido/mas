{
 "cells": [
  {
   "cell_type": "code",
   "execution_count": null,
   "metadata": {},
   "outputs": [],
   "source": [
    "import spacy\n",
    "\n",
    "from spacy_wordnet.wordnet_annotator import WordnetAnnotator \n",
    "\n",
    "# Load an spacy model (supported models are \"es\" and \"en\") \n",
    "nlp = spacy.load('en')\n",
    "nlp.add_pipe(WordnetAnnotator(nlp.lang), after='tagger')\n",
    "token = nlp('prices')[0]\n",
    "\n",
    "# wordnet object link spacy token with nltk wordnet interface by giving acces to\n",
    "# synsets and lemmas \n",
    "token._.wordnet.synsets()\n",
    "token._.wordnet.lemmas()\n",
    "\n",
    "# And automatically tags with wordnet domains\n",
    "token._.wordnet.wordnet_domains()\n",
    "\n",
    "# Imagine we want to enrich the following sentence with synonyms\n",
    "sentence = nlp('I want to withdraw 5,000 euros')\n",
    "\n",
    "# spaCy WordNet lets you find synonyms by domain of interest\n",
    "# for example economy\n",
    "economy_domains = ['finance', 'banking']\n",
    "enriched_sentence = []\n",
    "\n",
    "# For each token in the sentence\n",
    "for token in sentence:\n",
    "    # We get those synsets within the desired domains\n",
    "    synsets = token._.wordnet.wordnet_synsets_for_domain(economy_domains)\n",
    "    if synsets:\n",
    "        lemmas_for_synset = []\n",
    "        for s in synsets:\n",
    "            # If we found a synset in the economy domains\n",
    "            # we get the variants and add them to the enriched sentence\n",
    "            lemmas_for_synset.extend(s.lemma_names())\n",
    "            enriched_sentence.append('({})'.format('|'.join(set(lemmas_for_synset))))\n",
    "    else:\n",
    "        enriched_sentence.append(token.text)\n",
    "\n",
    "# Let's see our enriched sentence\n",
    "print(' '.join(enriched_sentence))"
   ]
  },
  {
   "cell_type": "code",
   "execution_count": null,
   "metadata": {},
   "outputs": [],
   "source": []
  }
 ],
 "metadata": {
  "kernelspec": {
   "display_name": "Python [conda env:mas] *",
   "language": "python",
   "name": "conda-env-mas-py"
  },
  "language_info": {
   "codemirror_mode": {
    "name": "ipython",
    "version": 3
   },
   "file_extension": ".py",
   "mimetype": "text/x-python",
   "name": "python",
   "nbconvert_exporter": "python",
   "pygments_lexer": "ipython3",
   "version": "3.7.3"
  }
 },
 "nbformat": 4,
 "nbformat_minor": 2
}
